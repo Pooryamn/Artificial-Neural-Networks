{
  "nbformat": 4,
  "nbformat_minor": 0,
  "metadata": {
    "colab": {
      "name": "NN_HW3_Hopfield.ipynb",
      "provenance": [],
      "collapsed_sections": []
    },
    "kernelspec": {
      "display_name": "Python 3",
      "language": "python",
      "name": "python3"
    },
    "language_info": {
      "codemirror_mode": {
        "name": "ipython",
        "version": 3
      },
      "file_extension": ".py",
      "mimetype": "text/x-python",
      "name": "python",
      "nbconvert_exporter": "python",
      "pygments_lexer": "ipython3",
      "version": "3.8.5"
    }
  },
  "cells": [
    {
      "cell_type": "markdown",
      "metadata": {
        "id": "S-TsZLRFnOhL"
      },
      "source": [
        "In this problem, you need to train a Hopfield network using the attached image. Use the attached training image to train your network and then evaluate its performance employing the attached test image. To this end, you need to complete each cell step by step.\n",
        "\n",
        "You have to submit the final saved image as well as the completed notebook. \n"
      ]
    },
    {
      "cell_type": "code",
      "metadata": {
        "id": "0AMvHdjHnPNR"
      },
      "source": [
        "import numpy as np\n",
        "import random\n",
        "import PIL\n",
        "from PIL import Image\n",
        "import os\n",
        "import re\n",
        "from google.colab.patches import cv2_imshow "
      ],
      "execution_count": 1,
      "outputs": []
    },
    {
      "cell_type": "code",
      "metadata": {
        "id": "fVcKwIzM0LUQ"
      },
      "source": [
        "#Convert a matrix to a vector\n",
        "def mat2vec(x):\n",
        "    \"\"\"convert the matrix x to a vector \"\"\"\n",
        "\n",
        "    #### Implement your code ###\n",
        "    tmp1 = x.flatten()\n",
        "    \n",
        "    return tmp1"
      ],
      "execution_count": 2,
      "outputs": []
    },
    {
      "cell_type": "code",
      "metadata": {
        "id": "Kluvs_LM0shA"
      },
      "source": [
        "def create_W(x):\n",
        "    \"\"\"  Create a square matrix with the same size as the input size.\n",
        "    Note 1: The weight matrix must be symmetric\n",
        "    Tip 1: For row i and column j, while i != j, place the value x [i] * x [j] in the weight matrix w [i, j]\n",
        "    Tip 2: For row i and column j, while i=j, put the value 0 in the weight matrix w [i, j]\n",
        "    \"\"\"\n",
        "    #### Impelement your code ### \n",
        "    row = len(x)\n",
        "    w = np.zeros((row,row))\n",
        "    x_vector = mat2vec(x)\n",
        "    for i in range(row):\n",
        "        for j in range(row):\n",
        "            if (i == j):\n",
        "                w[i,j] = 0\n",
        "            else:\n",
        "                w[i,j] = x_vector[i] * x_vector[j]\n",
        "\n",
        "    return w"
      ],
      "execution_count": 3,
      "outputs": []
    },
    {
      "cell_type": "code",
      "metadata": {
        "id": "OGaxLOt53Iog"
      },
      "source": [
        "#Read an image file and convert it to a pattern of the image\n",
        "def readImg2array(file,size, threshold= 145):\n",
        "    img = Image.open(file).convert(mode=\"L\")\n",
        "    img= img.resize(size)\n",
        "    #img.thumbnail(size,Image.ANTIALIAS)\n",
        "    imgArray = np.asarray(img,dtype=np.uint8)\n",
        "    x = np.zeros(imgArray.shape,dtype=np.float)\n",
        "\n",
        "    \"\"\"\n",
        "    Set the value to 1 for each pixel value with the larger than the threshold,\n",
        "    and Set the value to -1 for each image pixel with a value of 0.\n",
        "\n",
        "    \"\"\"\n",
        "    #### Implement your code ###\n",
        "    row,col = imgArray.shape\n",
        "    print(imgArray)\n",
        "    for i in range(row):\n",
        "        for j in range(col):\n",
        "            if(imgArray[i,j] == 0):\n",
        "                x[i,j] = -1\n",
        "                \n",
        "            elif(imgArray[i,j]>threshold):\n",
        "                x[i,j] = 1\n",
        "\n",
        "    return x"
      ],
      "execution_count": 4,
      "outputs": []
    },
    {
      "cell_type": "code",
      "metadata": {
        "id": "Vdj87wEq4T0v"
      },
      "source": [
        "#Convert a numpy array to an image file like Jpeg\n",
        "def array2img(data, outFile = None):\n",
        "\n",
        "    #data is 1 or -1 matrix\n",
        "    y = np.zeros(data.shape,dtype=np.uint8)\n",
        "    y[data==1] = 255\n",
        "    y[data==-1] = 0\n",
        "    img = Image.fromarray(y,mode=\"L\")\n",
        "    if outFile is not None:\n",
        "        img.save(outFile)\n",
        "    return img"
      ],
      "execution_count": 5,
      "outputs": []
    },
    {
      "cell_type": "code",
      "metadata": {
        "id": "ivQi0cbZ4YT0"
      },
      "source": [
        "#Update the test input pattern (y_vec) based on the weight matrix\n",
        "def update(w,y_vec,theta=0.5,time=100):\n",
        "\n",
        "    \"\"\"\n",
        "    Once in a while, select a random number between 0 and the size of the input vector -1.\n",
        "    Then use the random number line of the weight matrix to multiply internally by the input vector.\n",
        "    Subtract the result from theta\n",
        "    If the end result is greater than 0, enter a value of 1 in the input vector, otherwise replace -1.\n",
        "    \"\"\"\n",
        "    #### Impelement your code ###\n",
        "    rand_top = len(y_vec) - 1\n",
        "    \n",
        "    for i in range(time):\n",
        "        rnd_num = random.randint(0,rand_top)\n",
        "        inner_multply = np.dot(w[rnd_num,:],y_vec)\n",
        "        subtraction = theta - inner_multply\n",
        "        \n",
        "        if(subtraction > 0):\n",
        "            y_vec[i] = 1\n",
        "        else:\n",
        "            y_vec[i] = -1\n",
        "            \n",
        "    return y_vec"
      ],
      "execution_count": 6,
      "outputs": []
    },
    {
      "cell_type": "code",
      "metadata": {
        "id": "pxSyUwhC614R"
      },
      "source": [
        "\n",
        "def hopfield(train_files, test_files,theta=0.5, time=1000, size=(100,100),threshold=60):\n",
        "\n",
        "    \"\"\"\n",
        "    Using the built-in functions, Do the following steps:\n",
        "    1- Read the input image and extract its pattern\n",
        "    2. Convert the obtained pattern into a vector\n",
        "    3- Make a weight matrix based on the vector of the previous step\n",
        "    4- Read the test image and extract its pattern\n",
        "    5- Convert the test pattern into a vector and give it as the input of the update function along with the built-in weight matrix.\n",
        "\n",
        "    \"\"\"\n",
        "    #### Impelement your code ###\n",
        "    # 1\n",
        "    image = readImg2array(train_files,size,threshold)\n",
        "    \n",
        "    # 2\n",
        "    image_vector = mat2vec(image)\n",
        "    \n",
        "    # 3\n",
        "    w = create_W(image_vector)\n",
        "    \n",
        "    # 4\n",
        "    tst_image = readImg2array(test_files,size,threshold)\n",
        "    \n",
        "    # 5 \n",
        "    y_vec = mat2vec(tst_image)\n",
        "    \n",
        "    oshape = (100,100)\n",
        "    \n",
        "    y_vec_after = update(w=w,y_vec=y_vec,theta=theta,time=time)\n",
        "    y_vec_after = y_vec_after.reshape(oshape)\n",
        "    after_img = array2img(y_vec_after,outFile=None)\n",
        "    after_img.save(\"result.jpg\")\n",
        "    after_img.show()\n",
        "        "
      ],
      "execution_count": 7,
      "outputs": []
    },
    {
      "cell_type": "code",
      "metadata": {
        "id": "Ru50z8cE9unG",
        "colab": {
          "base_uri": "https://localhost:8080/"
        },
        "outputId": "9db8ed63-2d8a-4ba1-db9d-8eaa8fbdc70b"
      },
      "source": [
        "train_files = 'train.jpg'\n",
        "test_files = 'test.jpg'\n",
        "hopfield(train_files, test_files, theta=0.5,time=100,size=(100,100),threshold=60)\n"
      ],
      "execution_count": 8,
      "outputs": [
        {
          "output_type": "stream",
          "name": "stdout",
          "text": [
            "[[212 225 214 ... 218 213 192]\n",
            " [205 217 208 ... 187 193 204]\n",
            " [205 209 194 ... 178 186 165]\n",
            " ...\n",
            " [161 164 181 ... 191 146 156]\n",
            " [132 107 100 ... 184 162 148]\n",
            " [ 44 119  88 ... 157 163 129]]\n",
            "[[207 221 208 ... 213 206 182]\n",
            " [199 212 200 ... 175 183 195]\n",
            " [200 203 185 ... 165 175 151]\n",
            " ...\n",
            " [143 148 165 ... 181 131 144]\n",
            " [115  87  82 ... 174 150 136]\n",
            " [ 35 102  71 ... 145 152 115]]\n"
          ]
        }
      ]
    }
  ]
}