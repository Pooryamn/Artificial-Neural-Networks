{
 "cells": [
  {
   "cell_type": "markdown",
   "metadata": {
    "id": "yvv-XLiPwfLW"
   },
   "source": [
    "## HW1: Train a perceptron model\n",
    "\n",
    "<a href=\"https://colab.research.google.com/drive/1Pkm_ZfXs2vEO8Vzynj55CkTo5ZMjemV-?usp=sharing\">Colab file address</a>\n",
    "\n",
    "In this homework, you will train a perceptron model with a simple dataset.\n",
    "\n",
    "**Notes:** \n",
    "- When you submit your assignment, the output of every cell should be visible.\n",
    "- You are not eligible to change any parts of the code except the predefined sections.\n",
    "- You can add your implementation only in the predefined sections.\n",
    "\n"
   ]
  },
  {
   "cell_type": "code",
   "execution_count": 1,
   "metadata": {
    "id": "PoXhybs4xWPq"
   },
   "outputs": [],
   "source": [
    "#@title Student Information\n",
    "#@markdown Enter the following info and run the cell:\n",
    "Name = \"Poorya MohammadiNasab\" #@param {type:\"string\"}\n",
    "StudentNumber =  400722138#@param {type:\"integer\"}"
   ]
  },
  {
   "cell_type": "code",
   "execution_count": 2,
   "metadata": {
    "id": "JDV5rqoGv9Dd"
   },
   "outputs": [],
   "source": [
    "import numpy as np\n",
    "import matplotlib.pyplot as plt\n",
    "import pandas as pd"
   ]
  },
  {
   "cell_type": "markdown",
   "metadata": {
    "id": "gw3I0lkI_PmX"
   },
   "source": [
    "## Load Dataset"
   ]
  },
  {
   "cell_type": "code",
   "execution_count": 3,
   "metadata": {
    "id": "pN3Ybb3-xqPt"
   },
   "outputs": [],
   "source": [
    "################################\n",
    "## Change directory to the folder of the dataset\n",
    "## For example, if the dataset is in NN/HW1 of your google drive, you should use this code in colab:\n",
    "## cd drive/MyDrive/NN/HW1\n",
    "################################"
   ]
  },
  {
   "cell_type": "code",
   "execution_count": 4,
   "metadata": {
    "colab": {
     "base_uri": "https://localhost:8080/"
    },
    "id": "TLEVrHrazk29",
    "outputId": "7edc6af2-5305-4fe3-8fc6-682d41325158"
   },
   "outputs": [
    {
     "name": "stdout",
     "output_type": "stream",
     "text": [
      "[Errno 2] No such file or directory: 'drive/MyDrive/NN'\n",
      "/content\n"
     ]
    }
   ],
   "source": [
    "cd drive/MyDrive/NN"
   ]
  },
  {
   "cell_type": "code",
   "execution_count": 5,
   "metadata": {
    "colab": {
     "base_uri": "https://localhost:8080/",
     "height": 35
    },
    "id": "WswXS9TPzW89",
    "outputId": "2d0a4bd7-d0e7-4304-a03f-962a45dd10d7"
   },
   "outputs": [
    {
     "data": {
      "application/vnd.google.colaboratory.intrinsic+json": {
       "type": "string"
      },
      "text/plain": [
       "'/content'"
      ]
     },
     "execution_count": 5,
     "metadata": {},
     "output_type": "execute_result"
    }
   ],
   "source": [
    "pwd"
   ]
  },
  {
   "cell_type": "code",
   "execution_count": 6,
   "metadata": {
    "id": "ckmhddZ4zOSd"
   },
   "outputs": [],
   "source": [
    "## Load the dataset\n",
    "dataset = pd.read_csv(\"dataset.csv\")"
   ]
  },
  {
   "cell_type": "code",
   "execution_count": 7,
   "metadata": {
    "colab": {
     "base_uri": "https://localhost:8080/"
    },
    "id": "Zfg93qtIzzQT",
    "outputId": "c82033e1-2d2a-49a7-fdff-ab972b5158ca"
   },
   "outputs": [
    {
     "name": "stdout",
     "output_type": "stream",
     "text": [
      "<class 'pandas.core.frame.DataFrame'>\n",
      "RangeIndex: 500 entries, 0 to 499\n",
      "Data columns (total 3 columns):\n",
      " #   Column  Non-Null Count  Dtype  \n",
      "---  ------  --------------  -----  \n",
      " 0   x1      500 non-null    float64\n",
      " 1   x2      500 non-null    float64\n",
      " 2   y       500 non-null    int64  \n",
      "dtypes: float64(2), int64(1)\n",
      "memory usage: 11.8 KB\n"
     ]
    }
   ],
   "source": [
    "## Dataset info\n",
    "dataset.info()"
   ]
  },
  {
   "cell_type": "code",
   "execution_count": 8,
   "metadata": {
    "colab": {
     "base_uri": "https://localhost:8080/",
     "height": 203
    },
    "id": "jixj9QV7z4AH",
    "outputId": "d86e8c3a-1d47-491d-ce87-94179f4ba36a"
   },
   "outputs": [
    {
     "data": {
      "text/html": [
       "<div>\n",
       "<style scoped>\n",
       "    .dataframe tbody tr th:only-of-type {\n",
       "        vertical-align: middle;\n",
       "    }\n",
       "\n",
       "    .dataframe tbody tr th {\n",
       "        vertical-align: top;\n",
       "    }\n",
       "\n",
       "    .dataframe thead th {\n",
       "        text-align: right;\n",
       "    }\n",
       "</style>\n",
       "<table border=\"1\" class=\"dataframe\">\n",
       "  <thead>\n",
       "    <tr style=\"text-align: right;\">\n",
       "      <th></th>\n",
       "      <th>x1</th>\n",
       "      <th>x2</th>\n",
       "      <th>y</th>\n",
       "    </tr>\n",
       "  </thead>\n",
       "  <tbody>\n",
       "    <tr>\n",
       "      <th>0</th>\n",
       "      <td>2.780914</td>\n",
       "      <td>3.649500</td>\n",
       "      <td>0</td>\n",
       "    </tr>\n",
       "    <tr>\n",
       "      <th>1</th>\n",
       "      <td>0.649471</td>\n",
       "      <td>4.428423</td>\n",
       "      <td>0</td>\n",
       "    </tr>\n",
       "    <tr>\n",
       "      <th>2</th>\n",
       "      <td>-3.393311</td>\n",
       "      <td>-1.439415</td>\n",
       "      <td>1</td>\n",
       "    </tr>\n",
       "    <tr>\n",
       "      <th>3</th>\n",
       "      <td>3.007704</td>\n",
       "      <td>2.896864</td>\n",
       "      <td>0</td>\n",
       "    </tr>\n",
       "    <tr>\n",
       "      <th>4</th>\n",
       "      <td>-3.745867</td>\n",
       "      <td>1.894699</td>\n",
       "      <td>1</td>\n",
       "    </tr>\n",
       "  </tbody>\n",
       "</table>\n",
       "</div>"
      ],
      "text/plain": [
       "         x1        x2  y\n",
       "0  2.780914  3.649500  0\n",
       "1  0.649471  4.428423  0\n",
       "2 -3.393311 -1.439415  1\n",
       "3  3.007704  2.896864  0\n",
       "4 -3.745867  1.894699  1"
      ]
     },
     "execution_count": 8,
     "metadata": {},
     "output_type": "execute_result"
    }
   ],
   "source": [
    "## See the five first rows of the dataset.\n",
    "dataset.head()"
   ]
  },
  {
   "cell_type": "code",
   "execution_count": 9,
   "metadata": {
    "colab": {
     "base_uri": "https://localhost:8080/",
     "height": 530
    },
    "id": "3X_fHonUz-pY",
    "outputId": "9dfe0059-e871-4e91-ce41-c05b6817aade"
   },
   "outputs": [
    {
     "data": {
      "text/plain": [
       "Text(0.5, 1.0, 'Random Classification Data with 2 classes')"
      ]
     },
     "execution_count": 9,
     "metadata": {},
     "output_type": "execute_result"
    },
    {
     "data": {
      "image/png": "[encoded data removed]",
      "text/plain": [
       "<Figure size 720x576 with 1 Axes>"
      ]
     },
     "metadata": {
      "needs_background": "light"
     },
     "output_type": "display_data"
    }
   ],
   "source": [
    "## Plot the dataset\n",
    "X = dataset.drop([\"y\"], axis=1).values\n",
    "y = dataset[\"y\"].values\n",
    "\n",
    "fig = plt.figure(figsize=(10,8))\n",
    "plt.plot(X[:, 0][y == 0], X[:, 1][y == 0], 'r^')\n",
    "plt.plot(X[:, 0][y == 1], X[:, 1][y == 1], 'bs')\n",
    "plt.xlabel(\"feature 1\")\n",
    "plt.ylabel(\"feature 2\")\n",
    "plt.title('Random Classification Data with 2 classes')"
   ]
  },
  {
   "cell_type": "code",
   "execution_count": 10,
   "metadata": {
    "colab": {
     "base_uri": "https://localhost:8080/"
    },
    "id": "_nT9562pv7-m",
    "outputId": "ae5acf83-36a9-42bd-f066-1b783f46b034"
   },
   "outputs": [
    {
     "data": {
      "text/plain": [
       "(500, 3)"
      ]
     },
     "execution_count": 10,
     "metadata": {},
     "output_type": "execute_result"
    }
   ],
   "source": [
    "dataset.shape"
   ]
  },
  {
   "cell_type": "markdown",
   "metadata": {
    "id": "d5JYkwuO492n"
   },
   "source": [
    "## Implement the algorithm\n",
    "\n",
    "You have two weights and one bias. Let's call them w1 and w2 and b. Your have to code a simple gradient descent algorithm for updating these parameters. "
   ]
  },
  {
   "cell_type": "code",
   "execution_count": 11,
   "metadata": {
    "id": "bQW2mLjQ55ol"
   },
   "outputs": [],
   "source": [
    "## Initialization of the parameters.\n",
    "w1 = 0\n",
    "w2 = 0\n",
    "b = 0"
   ]
  },
  {
   "cell_type": "code",
   "execution_count": 12,
   "metadata": {
    "id": "XhQM42m5vW0F"
   },
   "outputs": [],
   "source": [
    "def calculate_output(X, w1, w2, b):\n",
    "    ##############################################\n",
    "    ## code here\n",
    "    ## y_out is the output of your neuron.\n",
    "    ## First, you should implement this formula: y_out = w1 * x1 + w2 * x2 + b\n",
    "    ## please be careful to calculate this formula for all of the 500 data\n",
    "    ## Second, you should implement a Unit Step function as an activation function for each element of the y_out\n",
    "    ## the y_out should be an array with a length of 500.\n",
    "    ##############################################\n",
    "    y_out = []\n",
    "    \n",
    "    for row in X:\n",
    "        y_out.append(w1*row[0] + w2*row[1] + b)\n",
    "    \n",
    "    for i in range(len(y_out)):\n",
    "        if(y_out[i] >= 0):\n",
    "            y_out[i] = 1\n",
    "        else:\n",
    "            y_out[i] = 0\n",
    "    \n",
    "    return y_out"
   ]
  },
  {
   "cell_type": "code",
   "execution_count": 13,
   "metadata": {
    "colab": {
     "base_uri": "https://localhost:8080/"
    },
    "id": "hFxQZ_SQBWN3",
    "outputId": "e99efdf5-db33-4cbf-99de-2e4e5c8cbffd"
   },
   "outputs": [
    {
     "name": "stdout",
     "output_type": "stream",
     "text": [
      "500\n",
      "\n",
      "\n",
      "\n",
      "[1, 1, 0, 1, 1, 0, 1, 1, 1, 1, 1, 1, 1, 0, 1, 1, 0, 0, 1, 0, 1, 1, 1, 1, 1, 1, 0, 1, 1, 1, 1, 0, 1, 1, 1, 1, 1, 0, 1, 1, 0, 0, 0, 1, 1, 1, 1, 1, 1, 1, 1, 1, 0, 1, 1, 1, 1, 1, 1, 1, 1, 1, 1, 1, 1, 0, 0, 1, 1, 1, 1, 1, 0, 1, 1, 1, 0, 1, 1, 1, 1, 1, 1, 1, 0, 1, 1, 1, 1, 1, 0, 0, 1, 0, 1, 1, 1, 1, 1, 1, 1, 1, 1, 1, 0, 1, 1, 1, 1, 1, 1, 1, 1, 1, 0, 1, 0, 0, 1, 1, 1, 0, 1, 0, 1, 1, 0, 1, 1, 1, 1, 1, 1, 1, 1, 1, 1, 0, 1, 1, 0, 0, 1, 1, 0, 1, 1, 0, 1, 1, 1, 0, 1, 1, 0, 1, 1, 1, 1, 0, 1, 1, 1, 0, 1, 1, 1, 1, 1, 1, 1, 1, 1, 1, 1, 1, 1, 0, 1, 1, 1, 1, 1, 1, 1, 1, 1, 1, 0, 0, 0, 1, 1, 0, 1, 1, 1, 1, 1, 1, 1, 1, 0, 1, 1, 1, 1, 0, 1, 1, 0, 0, 1, 1, 1, 0, 1, 1, 0, 1, 0, 1, 1, 1, 1, 1, 1, 1, 0, 1, 1, 1, 1, 1, 1, 1, 1, 1, 1, 1, 1, 1, 1, 1, 1, 1, 0, 1, 1, 0, 0, 0, 1, 1, 1, 0, 1, 1, 0, 1, 1, 0, 1, 0, 0, 0, 1, 1, 1, 0, 1, 1, 0, 1, 1, 1, 1, 1, 0, 1, 1, 0, 0, 1, 1, 0, 1, 1, 1, 0, 1, 1, 1, 1, 1, 1, 1, 1, 1, 0, 1, 1, 1, 0, 0, 0, 1, 1, 1, 1, 1, 1, 1, 0, 1, 0, 0, 1, 1, 1, 1, 1, 1, 1, 0, 0, 1, 1, 1, 1, 1, 1, 1, 1, 1, 1, 0, 1, 1, 1, 1, 0, 1, 0, 1, 1, 1, 0, 1, 1, 1, 1, 1, 0, 1, 1, 1, 0, 0, 1, 1, 1, 1, 0, 1, 1, 1, 1, 0, 1, 1, 1, 1, 1, 1, 1, 1, 1, 0, 1, 0, 1, 0, 1, 1, 1, 1, 1, 1, 1, 1, 0, 0, 0, 1, 0, 1, 1, 1, 0, 1, 1, 1, 1, 0, 1, 1, 0, 1, 1, 1, 0, 1, 1, 1, 1, 0, 0, 1, 1, 1, 1, 1, 0, 0, 1, 1, 1, 0, 1, 1, 1, 1, 1, 1, 0, 1, 0, 1, 1, 0, 1, 0, 1, 0, 1, 1, 1, 1, 1, 1, 0, 1, 1, 0, 1, 0, 1, 1, 1, 1, 1, 1, 1, 1, 1, 1, 1, 0, 1, 0, 1, 0, 1, 1, 1, 1, 1, 1, 1, 1, 1, 1, 1, 1, 1, 1, 0, 0, 1, 1, 0, 1, 1, 0, 1, 1, 1, 0, 0]\n"
     ]
    }
   ],
   "source": [
    "# test function\n",
    "ret_arr = calculate_output(X,0.1,0.75,0.2)\n",
    "\n",
    "\n",
    "print(len(ret_arr),end='\\n\\n\\n\\n')\n",
    "print(ret_arr)"
   ]
  },
  {
   "cell_type": "code",
   "execution_count": 14,
   "metadata": {
    "colab": {
     "base_uri": "https://localhost:8080/"
    },
    "id": "aPFT9uGD6lot",
    "outputId": "d0e1d8b0-49d4-4c60-e69f-2d8cf7786bfe"
   },
   "outputs": [
    {
     "name": "stdout",
     "output_type": "stream",
     "text": [
      "in epoch :  0  errors :  250\n",
      "in epoch :  1  errors :  93\n",
      "in epoch :  2  errors :  6\n",
      "in epoch :  3  errors :  5\n",
      "in epoch :  4  errors :  4\n",
      "in epoch :  5  errors :  4\n",
      "in epoch :  6  errors :  3\n",
      "in epoch :  7  errors :  3\n",
      "in epoch :  8  errors :  3\n",
      "in epoch :  9  errors :  3\n",
      "in epoch :  10  errors :  3\n",
      "in epoch :  11  errors :  3\n",
      "in epoch :  12  errors :  3\n",
      "in epoch :  13  errors :  2\n",
      "in epoch :  14  errors :  2\n",
      "in epoch :  15  errors :  2\n",
      "in epoch :  16  errors :  2\n",
      "in epoch :  17  errors :  2\n",
      "in epoch :  18  errors :  2\n",
      "in epoch :  19  errors :  2\n",
      "w1 :  -0.15878375667301506 w2 :  -0.14610512401771092 b :  -0.020599999999999993\n"
     ]
    }
   ],
   "source": [
    "## implement the gradient descent algorithm\n",
    "lr = 0.1\n",
    "num_epochs = 20\n",
    "\n",
    "\n",
    "for i in range(num_epochs):\n",
    "    y_out = calculate_output(X, w1, w2, b)\n",
    "    errors = 0\n",
    "    for j in range(X.shape[0]):\n",
    "        if y[j] != y_out[j] :\n",
    "            errors += 1\n",
    "    ######################################\n",
    "    ## code here\n",
    "    ## implement the code for updating each parameter\n",
    "    ######################################\n",
    "    b = b - (1/len(X)) * lr * sum(y_out - y)\n",
    "    w1 = w1 - (1/len(X)) * lr * X[:,0].T.dot(y_out - y) \n",
    "    w2 = w2 - (1/len(X)) * lr * X[:,1].T.dot(y_out - y) \n",
    "\n",
    "    print(\"in epoch : \", i, \" errors : \", errors)\n",
    "\n",
    "print(\"w1 : \", w1, \"w2 : \", w2, \"b : \", b)"
   ]
  },
  {
   "cell_type": "code",
   "execution_count": 15,
   "metadata": {
    "colab": {
     "base_uri": "https://localhost:8080/"
    },
    "id": "JsUBxh7UBWN4",
    "outputId": "7734c52c-7296-47c0-90b5-f50df38b0350"
   },
   "outputs": [
    {
     "data": {
      "text/plain": [
       "5.90245810952022"
      ]
     },
     "execution_count": 15,
     "metadata": {},
     "output_type": "execute_result"
    }
   ],
   "source": [
    "X[:,0].T.dot(y_out - y)"
   ]
  },
  {
   "cell_type": "code",
   "execution_count": 16,
   "metadata": {
    "colab": {
     "base_uri": "https://localhost:8080/"
    },
    "id": "uoYleLseBWN4",
    "outputId": "c39e100b-5109-4018-87a4-7d7caed1de6e"
   },
   "outputs": [
    {
     "data": {
      "text/plain": [
       "(500, 2)"
      ]
     },
     "execution_count": 16,
     "metadata": {},
     "output_type": "execute_result"
    }
   ],
   "source": [
    "X.shape"
   ]
  },
  {
   "cell_type": "code",
   "execution_count": 17,
   "metadata": {
    "colab": {
     "base_uri": "https://localhost:8080/"
    },
    "id": "6b-L-MdKBWN4",
    "outputId": "05c92131-c0af-4031-eb0c-c9580664f6a8"
   },
   "outputs": [
    {
     "data": {
      "text/plain": [
       "-0.020199999999999992"
      ]
     },
     "execution_count": 17,
     "metadata": {},
     "output_type": "execute_result"
    }
   ],
   "source": [
    "b - (1/len(X)) * lr * sum(y_out - y)"
   ]
  },
  {
   "cell_type": "code",
   "execution_count": 18,
   "metadata": {
    "colab": {
     "base_uri": "https://localhost:8080/"
    },
    "id": "9D39OpfOM514",
    "outputId": "8c98d54a-970d-41f0-b7f1-0c83ea41b047"
   },
   "outputs": [
    {
     "data": {
      "text/plain": [
       "(500,)"
      ]
     },
     "execution_count": 18,
     "metadata": {},
     "output_type": "execute_result"
    }
   ],
   "source": [
    "(y_out - y).shape"
   ]
  },
  {
   "cell_type": "code",
   "execution_count": 19,
   "metadata": {
    "colab": {
     "base_uri": "https://localhost:8080/",
     "height": 530
    },
    "id": "YBC2LWY2BmDX",
    "outputId": "71328a1a-ccdd-4baa-d7e9-13f59ce9b95f"
   },
   "outputs": [
    {
     "data": {
      "text/plain": [
       "[<matplotlib.lines.Line2D at 0x7f087a551590>]"
      ]
     },
     "execution_count": 19,
     "metadata": {},
     "output_type": "execute_result"
    },
    {
     "data": {
      "image/png": "[encoded data removed]",
      "text/plain": [
       "<Figure size 720x576 with 1 Axes>"
      ]
     },
     "metadata": {
      "needs_background": "light"
     },
     "output_type": "display_data"
    }
   ],
   "source": [
    "## Plot the result\n",
    "x1 = [min(X[:,0]), max(X[:,0])]\n",
    "m = -w1/w2\n",
    "c = -b/w2\n",
    "x2 = np.dot(m, x1) + c\n",
    "    \n",
    "fig = plt.figure(figsize=(10,8))\n",
    "plt.plot(X[:, 0][y==0], X[:, 1][y==0], \"r^\")\n",
    "plt.plot(X[:, 0][y==1], X[:, 1][y==1], \"bs\")\n",
    "plt.xlabel(\"feature 1\")\n",
    "plt.ylabel(\"feature 2\")\n",
    "plt.title('Perceptron Algorithm')\n",
    "plt.plot(x1, x2, 'y-')"
   ]
  },
  {
   "cell_type": "markdown",
   "metadata": {
    "id": "tQtAkETRNltB"
   },
   "source": [
    "## Bonus Section\n",
    "Explain learning rate decay and different methods for that.\n",
    "Also, implement one of the methods of learning decay on the implemented code."
   ]
  },
  {
   "cell_type": "markdown",
   "metadata": {
    "id": "YBQlY9_W_5K3"
   },
   "source": [
    "<h3 style=\"color:red\"> Learning Rate Decay </h3>\n",
    "\n",
    "Learning rate decay is a technique for training modern neural networks. It starts training the network with a large learning rate and then slowly reducing/decaying it until local minima is obtained. It is empirically observed to help both optimization and generalization.\n",
    "\n",
    "<a href=\"https://medium.com/analytics-vidhya/learning-rate-decay-and-methods-in-deep-learning-2cee564f910b\">Reference</a>"
   ]
  },
  {
   "cell_type": "markdown",
   "metadata": {
    "id": "MiGPXUKOM2JY"
   },
   "source": [
    "<h3 style=\"color:red\"> Exponential Decay: </h3>\n",
    "\n",
    "α = ( decayRate^(epochNumber) )*α0\n",
    "\n",
    "α : learning rate (current iteration)\n",
    "\n",
    "α0 : Initial learning rate\n",
    "\n",
    "decayRate : hyper-parameter for the method\n",
    "\n",
    "\n",
    "This function applies an exponential decay function to a provided initial learning rate so that learning rate decay over time , exponentially.\n",
    "The decayRate of this method is always less then 1 , 0.95 is most commonly used among practitioners."
   ]
  },
  {
   "cell_type": "markdown",
   "metadata": {
    "id": "mn5fRd3uBWN6"
   },
   "source": [
    "<h3 style=\"color:red\"> implementation </h3>"
   ]
  },
  {
   "cell_type": "code",
   "execution_count": 20,
   "metadata": {
    "colab": {
     "base_uri": "https://localhost:8080/"
    },
    "id": "Fu6Eq2fMBWN7",
    "outputId": "71715008-47b9-4510-f4c9-b2c37518bd74"
   },
   "outputs": [
    {
     "name": "stdout",
     "output_type": "stream",
     "text": [
      "0.1\n",
      "in epoch :  0  errors :  250\n",
      "0.099\n",
      "in epoch :  1  errors :  93\n",
      "0.09801\n",
      "in epoch :  2  errors :  6\n",
      "0.0970299\n",
      "in epoch :  3  errors :  5\n",
      "0.096059601\n",
      "in epoch :  4  errors :  4\n",
      "0.09509900499\n",
      "in epoch :  5  errors :  4\n",
      "0.0941480149401\n",
      "in epoch :  6  errors :  3\n",
      "0.093206534790699\n",
      "in epoch :  7  errors :  3\n",
      "0.09227446944279201\n",
      "in epoch :  8  errors :  3\n",
      "0.09135172474836409\n",
      "in epoch :  9  errors :  3\n",
      "0.09043820750088044\n",
      "in epoch :  10  errors :  3\n",
      "0.08953382542587164\n",
      "in epoch :  11  errors :  3\n",
      "0.08863848717161293\n",
      "in epoch :  12  errors :  3\n",
      "0.08775210229989679\n",
      "in epoch :  13  errors :  3\n",
      "0.08687458127689783\n",
      "in epoch :  14  errors :  2\n",
      "0.08600583546412885\n",
      "in epoch :  15  errors :  2\n",
      "0.08514577710948756\n",
      "in epoch :  16  errors :  2\n",
      "0.08429431933839268\n",
      "in epoch :  17  errors :  2\n",
      "0.08345137614500875\n",
      "in epoch :  18  errors :  2\n",
      "0.08261686238355867\n",
      "in epoch :  19  errors :  2\n",
      "w1 :  -0.15689394343894963 w2 :  -0.14859933903811195 b :  -0.021224946411402823\n"
     ]
    }
   ],
   "source": [
    "## Initialization of the parameters.\n",
    "w1 = 0\n",
    "w2 = 0\n",
    "b = 0\n",
    "\n",
    "## implement the gradient descent algorithm with Learning rate decay\n",
    "lr = 0.1\n",
    "lr0 = 0.1\n",
    "dr = 0.99\n",
    "num_epochs = 20\n",
    "\n",
    "\n",
    "\n",
    "for i in range(num_epochs):\n",
    "    y_out = calculate_output(X, w1, w2, b)\n",
    "    errors = 0\n",
    "    for j in range(X.shape[0]):\n",
    "        if y[j] != y_out[j] :\n",
    "            errors += 1\n",
    "    ######################################\n",
    "    ## code here\n",
    "    ## implement the code for updating each parameter\n",
    "    ######################################\n",
    "    b = b - (1/len(X)) * lr * sum(y_out - y)\n",
    "    w1 = w1 - (1/len(X)) * lr * X[:,0].T.dot(y_out - y) \n",
    "    w2 = w2 - (1/len(X)) * lr * X[:,1].T.dot(y_out - y) \n",
    "    \n",
    "    lr = (dr**i) * lr0\n",
    "    print(lr)\n",
    "\n",
    "    print(\"in epoch : \", i, \" errors : \", errors)\n",
    "\n",
    "print(\"w1 : \", w1, \"w2 : \", w2, \"b : \", b)"
   ]
  },
  {
   "cell_type": "code",
   "execution_count": 21,
   "metadata": {
    "colab": {
     "base_uri": "https://localhost:8080/",
     "height": 530
    },
    "id": "9D1LmWXbCFyv",
    "outputId": "7a363937-5c5a-4e1e-9af4-1c4983c0b5fb"
   },
   "outputs": [
    {
     "data": {
      "text/plain": [
       "[<matplotlib.lines.Line2D at 0x7f087a4d1d10>]"
      ]
     },
     "execution_count": 21,
     "metadata": {},
     "output_type": "execute_result"
    },
    {
     "data": {
      "image/png": "[encoded data removed]",
      "text/plain": [
       "<Figure size 720x576 with 1 Axes>"
      ]
     },
     "metadata": {
      "needs_background": "light"
     },
     "output_type": "display_data"
    }
   ],
   "source": [
    "## Plot the result\n",
    "x1 = [min(X[:,0]), max(X[:,0])]\n",
    "m = -w1/w2\n",
    "c = -b/w2\n",
    "x2 = np.dot(m, x1) + c\n",
    "    \n",
    "fig = plt.figure(figsize=(10,8))\n",
    "plt.plot(X[:, 0][y==0], X[:, 1][y==0], \"r^\")\n",
    "plt.plot(X[:, 0][y==1], X[:, 1][y==1], \"bs\")\n",
    "plt.xlabel(\"feature 1\")\n",
    "plt.ylabel(\"feature 2\")\n",
    "plt.title('Perceptron Algorithm')\n",
    "plt.plot(x1, x2, 'y-')"
   ]
  },
  {
   "cell_type": "markdown",
   "metadata": {
    "id": "xa9tbyuABWN7"
   },
   "source": [
    "-----------------------------------\n",
    "----------------------------------\n",
    "## Implement Problem 4 part a"
   ]
  },
  {
   "cell_type": "code",
   "execution_count": 22,
   "metadata": {
    "id": "6nKb04b3BWN8"
   },
   "outputs": [],
   "source": [
    "df = pd.read_csv('humans.csv')"
   ]
  },
  {
   "cell_type": "code",
   "execution_count": 23,
   "metadata": {
    "colab": {
     "base_uri": "https://localhost:8080/",
     "height": 357
    },
    "id": "vsxynRZLBWN8",
    "outputId": "a9983381-e673-4957-d86f-ece66e9d6cdc"
   },
   "outputs": [
    {
     "data": {
      "text/html": [
       "<div>\n",
       "<style scoped>\n",
       "    .dataframe tbody tr th:only-of-type {\n",
       "        vertical-align: middle;\n",
       "    }\n",
       "\n",
       "    .dataframe tbody tr th {\n",
       "        vertical-align: top;\n",
       "    }\n",
       "\n",
       "    .dataframe thead th {\n",
       "        text-align: right;\n",
       "    }\n",
       "</style>\n",
       "<table border=\"1\" class=\"dataframe\">\n",
       "  <thead>\n",
       "    <tr style=\"text-align: right;\">\n",
       "      <th></th>\n",
       "      <th>Height</th>\n",
       "      <th>Weight</th>\n",
       "      <th>Eyes color</th>\n",
       "      <th>Hair color</th>\n",
       "      <th>Shoe size</th>\n",
       "      <th>Skin color</th>\n",
       "      <th>Number</th>\n",
       "    </tr>\n",
       "  </thead>\n",
       "  <tbody>\n",
       "    <tr>\n",
       "      <th>0</th>\n",
       "      <td>180</td>\n",
       "      <td>60</td>\n",
       "      <td>black</td>\n",
       "      <td>blond</td>\n",
       "      <td>42</td>\n",
       "      <td>black</td>\n",
       "      <td>1</td>\n",
       "    </tr>\n",
       "    <tr>\n",
       "      <th>1</th>\n",
       "      <td>170</td>\n",
       "      <td>60</td>\n",
       "      <td>black</td>\n",
       "      <td>blond</td>\n",
       "      <td>42</td>\n",
       "      <td>black</td>\n",
       "      <td>2</td>\n",
       "    </tr>\n",
       "    <tr>\n",
       "      <th>2</th>\n",
       "      <td>200</td>\n",
       "      <td>90</td>\n",
       "      <td>green</td>\n",
       "      <td>brown</td>\n",
       "      <td>43</td>\n",
       "      <td>black</td>\n",
       "      <td>3</td>\n",
       "    </tr>\n",
       "    <tr>\n",
       "      <th>3</th>\n",
       "      <td>170</td>\n",
       "      <td>80</td>\n",
       "      <td>brown</td>\n",
       "      <td>black</td>\n",
       "      <td>45</td>\n",
       "      <td>white</td>\n",
       "      <td>4</td>\n",
       "    </tr>\n",
       "    <tr>\n",
       "      <th>4</th>\n",
       "      <td>130</td>\n",
       "      <td>40</td>\n",
       "      <td>blue</td>\n",
       "      <td>blond</td>\n",
       "      <td>45</td>\n",
       "      <td>white</td>\n",
       "      <td>5</td>\n",
       "    </tr>\n",
       "    <tr>\n",
       "      <th>5</th>\n",
       "      <td>190</td>\n",
       "      <td>60</td>\n",
       "      <td>black</td>\n",
       "      <td>black</td>\n",
       "      <td>41</td>\n",
       "      <td>white</td>\n",
       "      <td>6</td>\n",
       "    </tr>\n",
       "    <tr>\n",
       "      <th>6</th>\n",
       "      <td>180</td>\n",
       "      <td>80</td>\n",
       "      <td>brown</td>\n",
       "      <td>black</td>\n",
       "      <td>40</td>\n",
       "      <td>black</td>\n",
       "      <td>7</td>\n",
       "    </tr>\n",
       "    <tr>\n",
       "      <th>7</th>\n",
       "      <td>200</td>\n",
       "      <td>70</td>\n",
       "      <td>green</td>\n",
       "      <td>brown</td>\n",
       "      <td>41</td>\n",
       "      <td>white</td>\n",
       "      <td>8</td>\n",
       "    </tr>\n",
       "    <tr>\n",
       "      <th>8</th>\n",
       "      <td>210</td>\n",
       "      <td>40</td>\n",
       "      <td>green</td>\n",
       "      <td>blond</td>\n",
       "      <td>40</td>\n",
       "      <td>black</td>\n",
       "      <td>9</td>\n",
       "    </tr>\n",
       "    <tr>\n",
       "      <th>9</th>\n",
       "      <td>130</td>\n",
       "      <td>70</td>\n",
       "      <td>blue</td>\n",
       "      <td>brown</td>\n",
       "      <td>40</td>\n",
       "      <td>black</td>\n",
       "      <td>10</td>\n",
       "    </tr>\n",
       "  </tbody>\n",
       "</table>\n",
       "</div>"
      ],
      "text/plain": [
       "   Height  Weight Eyes color Hair color  Shoe size Skin color  Number\n",
       "0     180      60      black      blond         42      black       1\n",
       "1     170      60      black      blond         42      black       2\n",
       "2     200      90      green      brown         43      black       3\n",
       "3     170      80      brown      black         45      white       4\n",
       "4     130      40       blue      blond         45      white       5\n",
       "5     190      60      black      black         41      white       6\n",
       "6     180      80      brown      black         40      black       7\n",
       "7     200      70      green      brown         41      white       8\n",
       "8     210      40      green      blond         40      black       9\n",
       "9     130      70       blue      brown         40      black      10"
      ]
     },
     "execution_count": 23,
     "metadata": {},
     "output_type": "execute_result"
    }
   ],
   "source": [
    "df"
   ]
  },
  {
   "cell_type": "code",
   "execution_count": 24,
   "metadata": {
    "colab": {
     "base_uri": "https://localhost:8080/"
    },
    "id": "v582qnBwBWN9",
    "outputId": "9697cbaa-edbf-4dc9-953c-de7ad77baeea"
   },
   "outputs": [
    {
     "data": {
      "text/plain": [
       "0    60\n",
       "1    60\n",
       "2    90\n",
       "3    80\n",
       "4    40\n",
       "5    60\n",
       "6    80\n",
       "7    70\n",
       "8    40\n",
       "9    70\n",
       "Name: Weight, dtype: int64"
      ]
     },
     "execution_count": 24,
     "metadata": {},
     "output_type": "execute_result"
    }
   ],
   "source": [
    "df['Weight']"
   ]
  },
  {
   "cell_type": "code",
   "execution_count": 25,
   "metadata": {
    "id": "u3L4w5KaBWN9"
   },
   "outputs": [],
   "source": [
    "def detect_person():\n",
    "    print('-----------------------------------------------------')\n",
    "    print('type \\\"y\\\" for yes and \\\"n\" for no')\n",
    "    print('-----------------------------------------------------\\n\\n\\n')\n",
    "    \n",
    "    ##########################################\n",
    "    # filter Skin color\n",
    "    ans = input('Skin color == black ?')\n",
    "    \n",
    "    if (ans == 'y'):\n",
    "        df2 = df[df['Skin color']=='black']\n",
    "    elif(ans == 'n'):\n",
    "        df2 = df[df['Skin color']=='white']\n",
    "    else:\n",
    "        print('Wrong input')\n",
    "        return\n",
    "    \n",
    "    \n",
    "    print('-----------------------------------------------------\\n')\n",
    "    print(df2)\n",
    "    print('-----------------------------------------------------\\n\\n')\n",
    "    \n",
    "    if(len(df2) == 1):\n",
    "        return df2.iloc[0,6]\n",
    "    \n",
    "    ##########################################\n",
    "    # filter height\n",
    "    ans = input('height >= 180 ?')\n",
    "    \n",
    "    if (ans == 'y'):\n",
    "        # drop whites\n",
    "        df2 = df2[df2['Height'] >= 180]\n",
    "    elif(ans == 'n'):\n",
    "        #drop black\n",
    "        df2 = df2[df2['Height'] < 180]\n",
    "    else:\n",
    "        print('Wrong input')\n",
    "        return\n",
    "    \n",
    "    print('-----------------------------------------------------\\n')\n",
    "    print(df2)\n",
    "    print('-----------------------------------------------------\\n\\n')\n",
    "    \n",
    "    \n",
    "    if(len(df2) == 1):\n",
    "        return df2.iloc[0,6]\n",
    "    \n",
    "    ##########################################\n",
    "    # filter weight\n",
    "    ans = input('weight >= 65  ?')\n",
    "    \n",
    "    if (ans == 'y'):\n",
    "        # drop whites\n",
    "        df2 = df2[df2['Weight'] >= 65]\n",
    "    elif(ans == 'n'):\n",
    "        #drop black\n",
    "        df2 = df2[df2['Weight'] < 65]\n",
    "    else:\n",
    "        print('Wrong input')\n",
    "        return\n",
    "    \n",
    "    \n",
    "    print('-----------------------------------------------------\\n')\n",
    "    print(df2)\n",
    "    print('-----------------------------------------------------\\n\\n')\n",
    "    \n",
    "    \n",
    "    if(len(df2) == 1):\n",
    "        return df2.iloc[0,6]\n",
    "    \n",
    "    \n",
    "    ##########################################\n",
    "    # filter Shoe size\n",
    "    ans = input('shoe size > 41  ?')\n",
    "    \n",
    "    if (ans == 'y'):\n",
    "        # drop whites\n",
    "        df2 = df2[df2['Shoe size'] > 41]\n",
    "    elif(ans == 'n'):\n",
    "        #drop black\n",
    "        df2 = df2[df2['Shoe size'] <= 41 ]\n",
    "    else:\n",
    "        print('Wrong input')\n",
    "        return\n",
    "    \n",
    "    \n",
    "    print('-----------------------------------------------------\\n')\n",
    "    print(df2)\n",
    "    print('-----------------------------------------------------\\n\\n')\n",
    "    \n",
    "    \n",
    "    if(len(df2) == 1):\n",
    "        return df2.iloc[0,6]"
   ]
  },
  {
   "cell_type": "code",
   "execution_count": 26,
   "metadata": {
    "colab": {
     "base_uri": "https://localhost:8080/"
    },
    "id": "Xa8FikvnBWN9",
    "outputId": "102560b8-fa44-4c66-e55f-63247fe8ca07"
   },
   "outputs": [
    {
     "name": "stdout",
     "output_type": "stream",
     "text": [
      "-----------------------------------------------------\n",
      "type \"y\" for yes and \"n\" for no\n",
      "-----------------------------------------------------\n",
      "\n",
      "\n",
      "\n",
      "Skin color == black ?y\n",
      "-----------------------------------------------------\n",
      "\n",
      "   Height  Weight Eyes color Hair color  Shoe size Skin color  Number\n",
      "0     180      60      black      blond         42      black       1\n",
      "1     170      60      black      blond         42      black       2\n",
      "2     200      90      green      brown         43      black       3\n",
      "6     180      80      brown      black         40      black       7\n",
      "8     210      40      green      blond         40      black       9\n",
      "9     130      70       blue      brown         40      black      10\n",
      "-----------------------------------------------------\n",
      "\n",
      "\n",
      "height >= 180 ?n\n",
      "-----------------------------------------------------\n",
      "\n",
      "   Height  Weight Eyes color Hair color  Shoe size Skin color  Number\n",
      "1     170      60      black      blond         42      black       2\n",
      "9     130      70       blue      brown         40      black      10\n",
      "-----------------------------------------------------\n",
      "\n",
      "\n",
      "weight >= 65  ?y\n",
      "-----------------------------------------------------\n",
      "\n",
      "   Height  Weight Eyes color Hair color  Shoe size Skin color  Number\n",
      "9     130      70       blue      brown         40      black      10\n",
      "-----------------------------------------------------\n",
      "\n",
      "\n"
     ]
    },
    {
     "data": {
      "text/plain": [
       "10"
      ]
     },
     "execution_count": 26,
     "metadata": {},
     "output_type": "execute_result"
    }
   ],
   "source": [
    "detect_person()"
   ]
  }
 ],
 "metadata": {
  "colab": {
   "collapsed_sections": [],
   "name": "NN_HW1.ipynb",
   "provenance": []
  },
  "kernelspec": {
   "display_name": "Python 3",
   "language": "python",
   "name": "python3"
  },
  "language_info": {
   "codemirror_mode": {
    "name": "ipython",
    "version": 3
   },
   "file_extension": ".py",
   "mimetype": "text/x-python",
   "name": "python",
   "nbconvert_exporter": "python",
   "pygments_lexer": "ipython3",
   "version": "3.8.5"
  }
 },
 "nbformat": 4,
 "nbformat_minor": 1
}
