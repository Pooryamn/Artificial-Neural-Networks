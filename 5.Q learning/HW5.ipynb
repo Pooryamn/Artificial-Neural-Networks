{
 "cells": [
  {
   "cell_type": "markdown",
   "metadata": {
    "id": "Nd4GU-Pf4vd9"
   },
   "source": [
    "# Environment"
   ]
  },
  {
   "cell_type": "code",
   "execution_count": null,
   "metadata": {},
   "outputs": [],
   "source": [
    "import matplotlib.pyplot as plt"
   ]
  },
  {
   "cell_type": "code",
   "execution_count": 1,
   "metadata": {
    "id": "b8Ie-mkhiGjT"
   },
   "outputs": [],
   "source": [
    "import numpy as np\n",
    "import copy\n",
    "from gym import Env\n",
    "import datetime\n",
    "\n",
    "class FrozenLake(Env):\n",
    "    def __init__(self,studentNum:int=256, nonStationary = False):\n",
    "        self.studentNum = studentNum\n",
    "        self.nonStationary = nonStationary\n",
    "        \n",
    "        np.random.seed(self.studentNum)\n",
    "        self.beginMap = make_map(self.studentNum) #*2\n",
    "        self.beginMap[self.beginMap>1] = 1\n",
    "        self.endMap = make_map(self.studentNum + 100)\n",
    "        \n",
    "        self.changeDir = self.endMap - self.beginMap\n",
    "        self.changeDir *= 1/11000\n",
    "\n",
    "        self.fixedMap = self.beginMap\n",
    "\n",
    "        np.random.seed(datetime.datetime.now().microsecond)\n",
    "        \n",
    "        self.map = copy.deepcopy(self.fixedMap)\n",
    "        self.time = 0\n",
    "        self.reset()\n",
    "\n",
    "    def reset(self):\n",
    "        self.NSreset()\n",
    "        if not self.nonStationary:\n",
    "            self.map = copy.deepcopy(self.fixedMap)\n",
    "            self.time = 0\n",
    "\n",
    "        return self.state\n",
    "\n",
    "    def NSreset(self):\n",
    "        self.time += 1\n",
    "        self.map += self.changeDir\n",
    "\n",
    "        self.map[self.map>0.95]=0.95\n",
    "        self.map[self.map<0.0]=0.0\n",
    "\n",
    "        self.state = (0,0)\n",
    "        self.done = False\n",
    "        return self.state\n",
    "    \n",
    "    def states_transitions(self, state, action):\n",
    "        x = state[0]\n",
    "        y = state[1]\n",
    "        states = np.array([[x,y-1], [x,y+1], [x-1 ,y], [x+1,y] ])\n",
    "\n",
    "\n",
    "        if action == UP:\n",
    "            selected = states[2]\n",
    "        if action == DOWN:\n",
    "            selected = states[3]\n",
    "        if action == RIGHT:\n",
    "            selected = states[1]\n",
    "        if action == LEFT:\n",
    "            selected = states[0]\n",
    "\n",
    "        zero = np.zeros((4,2)).astype(int)\n",
    "        three = (3 * np.ones((4,2))).astype(int)\n",
    "        output = np.maximum(np.minimum(states, three),zero)\n",
    "        output, indices = np.unique(output, axis = 0, return_counts= True)\n",
    "\n",
    "        \n",
    "        selected = np.maximum(np.minimum(selected, three[0]), zero[0])\n",
    "        probs = indices * 0.025\n",
    "        probs[np.argmax(np.sum(selected == output, axis = 1))] += 0.9\n",
    "\n",
    "        return list(zip(output[:,0],output[:,1])), probs\n",
    "    \n",
    "    def possible_consequences(self,action:int,state_now=None):\n",
    "\n",
    "        if state_now==None:\n",
    "            state_now = self.state\n",
    "\n",
    "        state = [state_now[0],state_now[1]]\n",
    "        states, probs = self.states_transitions(state, action)\n",
    "        aa = np.array(states) \n",
    "        fail_probs = self.map[(aa[:,0]),(aa[:,1])]\n",
    "        dones = np.sum(aa == 3, axis = 1) == 2\n",
    "        return states, probs, fail_probs,dones\n",
    "    \n",
    "    def step(self, a:int):\n",
    "        if not (a in range(4)):\n",
    "            raise Exception(\"{} action is not available!!!\".format(a))\n",
    "        \n",
    "        states, probs, fail_probs,dones = self.possible_consequences(a)\n",
    "        \n",
    "        next_idx = np.random.choice(np.arange(len(states)), p = probs)\n",
    "        next_state = states[next_idx]\n",
    "        self.state = tuple(next_state)\n",
    "        \n",
    "        self.done = dones[next_idx]\n",
    "\n",
    "        r = -1\n",
    "\n",
    "        if self.done:\n",
    "            r += 60\n",
    "        elif np.random.rand()< fail_probs[next_idx]:\n",
    "            r -= 15\n",
    "            self.done = True\n",
    "\n",
    "        return (self.state, r, self.done, {})\n",
    "\n",
    "    def render(self,state=None):\n",
    "        if state == None:\n",
    "            state = self.state\n",
    "\n",
    "        out = \"\"\n",
    "        for i in range(4):\n",
    "            out += \"\\n------------------------------\\n| \"\n",
    "            for j in range(4):\n",
    "                if (i,j) == state:\n",
    "                    out += \"\\033[44m{:.3f}\\033[0m | \".format(self.map[i,j])\n",
    "                else :\n",
    "                    out += \"{:.3f} | \".format(self.map[i,j])\n",
    "\n",
    "        out += \"\\n------------------------------\"\n",
    "        print(out)\n",
    "\n",
    "    def environment_states(self):\n",
    "        env_states = []\n",
    "        for state_index in range(16):\n",
    "            s0 = state_index % 4\n",
    "            s1 = state_index//4\n",
    "            env_states.append((s0,s1))\n",
    "        return env_states\n",
    "\n",
    "        \n",
    "def set_max_min(var,maximum,minimum):\n",
    "    return min(max(var,minimum),maximum)\n",
    "\n",
    "def make_map(studentNum):\n",
    "    np.random.seed(studentNum)  \n",
    "    move = np.zeros(6)\n",
    "    idx = np.random.choice(range(6),size=3,replace=False)\n",
    "    move[idx] = 1\n",
    "\n",
    "    point = [0,0]\n",
    "    lowprobs = [tuple(point)]\n",
    "\n",
    "    for m in move:\n",
    "        if m:\n",
    "            point[0] += 1\n",
    "        else:\n",
    "            point[1] += 1\n",
    "        lowprobs.append(tuple(point))\n",
    "    \n",
    "    map = np.random.rand(4,4)\n",
    "    idx = np.array(lowprobs)\n",
    "\n",
    "    map[idx[:,0],idx[:,1]] = 0.001 \n",
    "    map[0,0] = 0.0\n",
    "    map[3,3] = 0.0 \n",
    "\n",
    "    return map"
   ]
  },
  {
   "cell_type": "markdown",
   "metadata": {
    "id": "JIrM2PNQ4l5G"
   },
   "source": [
    "## Your Student ID"
   ]
  },
  {
   "cell_type": "code",
   "execution_count": 2,
   "metadata": {
    "id": "JvWeNrBx4or9"
   },
   "outputs": [],
   "source": [
    "STUDENT_NUM = 400722138"
   ]
  },
  {
   "cell_type": "markdown",
   "metadata": {
    "id": "ba-NtxEn5LJ0"
   },
   "source": [
    "# HyperParameters"
   ]
  },
  {
   "cell_type": "code",
   "execution_count": 3,
   "metadata": {
    "id": "54H4VswF5Kot"
   },
   "outputs": [],
   "source": [
    "#%% allowed actions\n",
    "LEFT = 0\n",
    "DOWN = 1\n",
    "RIGHT = 2\n",
    "UP = 3\n",
    "\n",
    "ACTIONS = [LEFT,DOWN,RIGHT,UP]\n",
    "\n",
    "#%% hyperparameters\n",
    "EPISODES = 10000\n",
    "EPSILON = 0.1\n",
    "LEARNING_RATE = 0.1\n",
    "DISCOUNT = 0.9"
   ]
  },
  {
   "cell_type": "markdown",
   "metadata": {
    "id": "Mdub8jub5bM9"
   },
   "source": [
    "## Map of environment"
   ]
  },
  {
   "cell_type": "code",
   "execution_count": 4,
   "metadata": {
    "id": "ME5gllo7g0p7"
   },
   "outputs": [
    {
     "name": "stdout",
     "output_type": "stream",
     "text": [
      "Environment with fail probabilities :\n",
      "\n",
      "------------------------------\n",
      "| \u001b[44m0.000\u001b[0m | 0.001 | 0.001 | 0.082 | \n",
      "------------------------------\n",
      "| 0.526 | 0.493 | 0.001 | 0.217 | \n",
      "------------------------------\n",
      "| 0.579 | 0.570 | 0.001 | 0.001 | \n",
      "------------------------------\n",
      "| 0.344 | 0.356 | 0.249 | 0.000 | \n",
      "------------------------------\n"
     ]
    }
   ],
   "source": [
    "environment = FrozenLake(studentNum=STUDENT_NUM)\n",
    "\n",
    "print(\"Environment with fail probabilities :\")\n",
    "environment.render()\n"
   ]
  },
  {
   "cell_type": "markdown",
   "metadata": {
    "id": "9z-KEpaeOcAh"
   },
   "source": [
    "## <h2><font color=indigo> Agent Implementation\n",
    "Implement your q-learning (off-policy TD) agent here. You need to utilize the step function provided in the Environment class to interact with frozen lake environment."
   ]
  },
  {
   "cell_type": "code",
   "execution_count": 38,
   "metadata": {
    "id": "9P-5IZqIeco8"
   },
   "outputs": [],
   "source": [
    "import sys\n",
    "import itertools\n",
    "import random\n",
    "\n",
    "class Q_Learning:\n",
    "    def __init__(self, id, environment, discount , learning_rate = 0.1 , epsilon = 0.1 ,episodes=10000):\n",
    "\n",
    "        self.environment = environment\n",
    "        self.discount = discount\n",
    "        self.episodes = episodes\n",
    "        self.learning_rate = learning_rate\n",
    "        self.environment = environment\n",
    "        self.epsilon = epsilon\n",
    "        self.n_actions = 4\n",
    "\n",
    "\n",
    "    ######## Your Code Here ########\n",
    "    def learn(self):\n",
    "        G = []\n",
    "        for episode in range(self.episodes):\n",
    "            s = self.environment.reset()\n",
    "            G_episode=0\n",
    "            done=False\n",
    "            episode_length=0\n",
    "            \n",
    "            while episode_length <=100:##  episode must be finished in 100 steps\n",
    "                if random.random() < self.epsilon:## choose action epslone greedy\n",
    "                    a = random.randrange(0,4)## pick a random action\n",
    "                else:\n",
    "                    a = np.argmax(self.environment.map[s[0],:])##choose an action\n",
    "                    \n",
    "                s_next,r,done,_=self.environment.step(a)\n",
    "                \n",
    "                ## update Q\n",
    "                self.environment.map[s,a]=self.environment.map[s,a]+self.learning_rate*( r + self.discount*np.max(self.environment.map[s_next,:])-self.environment.map[s,a])\n",
    "                \n",
    "                G_episode+=r\n",
    "                \n",
    "                s = s_next\n",
    "                \n",
    "                episode_length += 1\n",
    "                \n",
    "                \n",
    "                \n",
    "                if done == True:\n",
    "                    break\n",
    "            \n",
    "            G.append(G_episode)\n",
    "        \n",
    "        self.environment.render()\n",
    "        print(sum(G)/self.episodes) \n",
    "        plt.plot(np.cumsum(Q)/np.arange(1,self.episodes+1),'.')\n",
    "        return G, self.environment.map\n",
    "        "
   ]
  },
  {
   "cell_type": "markdown",
   "metadata": {
    "id": "c6J4uXQGuTgs"
   },
   "source": [
    "## <h2><font color=indigo> Q Values\n",
    "Return the Q values that your agent learns in here:"
   ]
  },
  {
   "cell_type": "code",
   "execution_count": 39,
   "metadata": {
    "id": "WYZfiWY6qMch"
   },
   "outputs": [
    {
     "name": "stdout",
     "output_type": "stream",
     "text": [
      "\n",
      "------------------------------\n",
      "| 0.000 | -7.763 | 0.001 | -0.223 | \n",
      "------------------------------\n",
      "| 0.526 | \u001b[44m-7.517\u001b[0m | 0.001 | 0.217 | \n",
      "------------------------------\n",
      "| 0.579 | 0.570 | 0.001 | 0.001 | \n",
      "------------------------------\n",
      "| 0.344 | 0.356 | 0.249 | 0.000 | \n",
      "------------------------------\n",
      "-17.1543\n"
     ]
    },
    {
     "data": {
      "image/png": "[encoded data removed]",
      "text/plain": [
       "<Figure size 432x288 with 1 Axes>"
      ]
     },
     "metadata": {
      "needs_background": "light"
     },
     "output_type": "display_data"
    }
   ],
   "source": [
    "agent = Q_Learning('Poorya Mohammadi', environment, 0.9 , learning_rate = 0.5 , epsilon = 0.1 ,episodes= 10000)\n",
    "Q , policy = agent.learn()"
   ]
  },
  {
   "cell_type": "markdown",
   "metadata": {
    "id": "MMojYRGVvAXk"
   },
   "source": [
    "## <h2><font color=darkcyan> Policy\n",
    "Return the optimal policy that your agent learns in here:"
   ]
  },
  {
   "cell_type": "code",
   "execution_count": 40,
   "metadata": {
    "id": "9EFY3T0r9OHW"
   },
   "outputs": [
    {
     "data": {
      "text/plain": [
       "array([[ 0.00000000e+00, -7.76300268e+00,  1.00000000e-03,\n",
       "        -2.22736851e-01],\n",
       "       [ 5.25549606e-01, -7.51676651e+00,  1.00000000e-03,\n",
       "         2.17184859e-01],\n",
       "       [ 5.78585102e-01,  5.69779445e-01,  1.00000000e-03,\n",
       "         1.00000000e-03],\n",
       "       [ 3.43598863e-01,  3.56233756e-01,  2.49387570e-01,\n",
       "         0.00000000e+00]])"
      ]
     },
     "execution_count": 40,
     "metadata": {},
     "output_type": "execute_result"
    }
   ],
   "source": [
    "policy"
   ]
  }
 ],
 "metadata": {
  "colab": {
   "collapsed_sections": [],
   "name": "StudentName__HW5.ipynb",
   "provenance": []
  },
  "kernelspec": {
   "display_name": "Python 3",
   "language": "python",
   "name": "python3"
  },
  "language_info": {
   "codemirror_mode": {
    "name": "ipython",
    "version": 3
   },
   "file_extension": ".py",
   "mimetype": "text/x-python",
   "name": "python",
   "nbconvert_exporter": "python",
   "pygments_lexer": "ipython3",
   "version": "3.8.5"
  }
 },
 "nbformat": 4,
 "nbformat_minor": 4
}
