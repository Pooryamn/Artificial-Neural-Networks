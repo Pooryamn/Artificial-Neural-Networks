{
 "cells": [
  {
   "cell_type": "code",
   "execution_count": 1,
   "metadata": {},
   "outputs": [],
   "source": [
    "import gym\n",
    "import random\n",
    "import numpy as np\n",
    "import time\n",
    "import matplotlib.pyplot as plt"
   ]
  },
  {
   "cell_type": "code",
   "execution_count": 6,
   "metadata": {},
   "outputs": [],
   "source": [
    "# paramters and environments\n",
    "\n",
    "env = gym.make(\"Pendulum-v1\")\n",
    "\n",
    "discrete_os_size = (13, 11, 12)\n",
    "discrete_os_win_size = (env.observation_space.high - env.observation_space.low)/discrete_os_size\n",
    "discrete_os_nsize = (14, 12, 13)\n",
    "discrete_action_size = (2)\n",
    "discrete_action_win_size = (env.action_space.high - env.action_space.low)/discrete_action_size\n",
    "q_table = np.random.random(discrete_os_nsize + (discrete_action_size,))"
   ]
  },
  {
   "cell_type": "code",
   "execution_count": 3,
   "metadata": {},
   "outputs": [],
   "source": [
    "def get_discrete_state(state):\n",
    "    discrete_state = (state - env.observation_space.low)/discrete_os_win_size\n",
    "    return tuple(discrete_state.astype(int))\n",
    "\n",
    "class QAgent():\n",
    "    def __init__(self, env):\n",
    "        self.action_low = env.action_space.low\n",
    "        self.action_high = env.action_space.high\n",
    "        self.eps = 0.01\n",
    "        self.discount = 0.91\n",
    "        self.lr = 0.06\n",
    "    def get_action(self, state, env):\n",
    "        d_state = get_discrete_state(state)\n",
    "        action = [-2.0 + (np.argmax(q_table[d_state]))*4.0]                         \n",
    "        if(random.random() < self.eps):\n",
    "            return env.action_space.sample()\n",
    "        else:\n",
    "            return action             \n",
    "    def train(self, state, action, next_state, reward, done):\n",
    "        d_state = get_discrete_state(state)\n",
    "        next_d_state = get_discrete_state(next_state)\n",
    "        if(done==True):\n",
    "            future_q = np.zeros(discrete_action_size)\n",
    "        else:    \n",
    "            future_q = q_table[next_d_state]\n",
    "        current_q = q_table[d_state + (np.argmax(q_table[d_state]),)]\n",
    "        target_q = reward + self.discount*np.max(future_q)\n",
    "        update = target_q - current_q\n",
    "        q_table[d_state + (np.argmax(q_table[d_state]),)] += self.lr*update\n",
    "        if(done==True):\n",
    "            self.eps = self.eps*0.98"
   ]
  },
  {
   "cell_type": "code",
   "execution_count": 7,
   "metadata": {},
   "outputs": [
    {
     "name": "stderr",
     "output_type": "stream",
     "text": [
      "<ipython-input-7-92bf9d614cac>:20: RuntimeWarning: divide by zero encountered in double_scalars\n",
      "  aggr_rewards['avg'].append(avg_reward/ep)\n"
     ]
    },
    {
     "data": {
      "image/png": "[encoded data removed]",
      "text/plain": [
       "<Figure size 432x288 with 1 Axes>"
      ]
     },
     "metadata": {
      "needs_background": "light"
     },
     "output_type": "display_data"
    }
   ],
   "source": [
    "agent = QAgent(env)\n",
    "t_reward = 0\n",
    "info = 0\n",
    "aggr_rewards = {'avg': []}\n",
    "\n",
    "ep_len = 0\n",
    "avg_reward = 0\n",
    "state = env.reset()\n",
    "done = False\n",
    "for ep in range(10):\n",
    "    for i in range(200):\n",
    "        ep_len += 1\n",
    "        action = agent.get_action(state, env)\n",
    "        next_state, reward, done, info = env.step(action)\n",
    "        agent.train(state, action, next_state, reward, done)\n",
    "        state = next_state\n",
    "        t_reward += reward\n",
    "        avg_reward += reward \n",
    "        env.render()\n",
    "    aggr_rewards['avg'].append(avg_reward/ep)   \n",
    "env.close()\n",
    "\n",
    "plt.title('average reward')\n",
    "plt.plot(aggr_rewards['avg'])\n",
    "plt.savefig('Cell_4_out.jpg',dpi = 450)"
   ]
  },
  {
   "cell_type": "code",
   "execution_count": null,
   "metadata": {},
   "outputs": [],
   "source": []
  }
 ],
 "metadata": {
  "kernelspec": {
   "display_name": "Python 3",
   "language": "python",
   "name": "python3"
  },
  "language_info": {
   "codemirror_mode": {
    "name": "ipython",
    "version": 3
   },
   "file_extension": ".py",
   "mimetype": "text/x-python",
   "name": "python",
   "nbconvert_exporter": "python",
   "pygments_lexer": "ipython3",
   "version": "3.8.5"
  }
 },
 "nbformat": 4,
 "nbformat_minor": 4
}
